{
 "cells": [
  {
   "cell_type": "markdown",
   "metadata": {},
   "source": [
    "# Transformer Networks"
   ]
  },
  {
   "cell_type": "code",
   "execution_count": 1,
   "metadata": {},
   "outputs": [],
   "source": [
    "import numpy as np\n",
    "import torch\n",
    "import torch.nn as nn\n",
    "import torch.nn.functional as F\n",
    "import math, copy, time\n",
    "from torch.autograd import Variable\n",
    "import matplotlib.pyplot as plt\n",
    "import seaborn\n",
    "seaborn.set_context(context=\"talk\")\n",
    "from IPython.display import SVG\n",
    "from IPython.display import HTML\n",
    "%matplotlib inline"
   ]
  },
  {
   "cell_type": "code",
   "execution_count": 2,
   "metadata": {},
   "outputs": [
    {
     "data": {
      "text/html": [
       "<style>img{max-height:400px !important;}</style>"
      ],
      "text/plain": [
       "<IPython.core.display.HTML object>"
      ]
     },
     "execution_count": 2,
     "metadata": {},
     "output_type": "execute_result"
    }
   ],
   "source": [
    "style = \"<style>img{max-height:400px !important;}</style>\"\n",
    "HTML(style) # this resizes SVGS in my site files."
   ]
  },
  {
   "cell_type": "markdown",
   "metadata": {},
   "source": [
    "Most of the paper was clear. However, it was difficult to see how it would work across sequences of different length. I don't mean how or why the positional encoding would work - this is intuitive, but rather how they construct the matrices to fit together :).\n",
    "\n",
    "This notebook focuses on the unique modules the authors present, and how the system fits together. Other *dependencies* of this post can be viewed at the links below. \n",
    "\n",
    "TODO(cjlovering): link other notebooks."
   ]
  },
  {
   "cell_type": "markdown",
   "metadata": {},
   "source": [
    "## Overview\n",
    "This work focuses on the task of natural language translation (e.g. english to german or vice versa.)"
   ]
  },
  {
   "cell_type": "markdown",
   "metadata": {},
   "source": [
    "<div class=\"alert alert-info\">\n",
    "\n",
    "I refer to implementations from the 'tensor2tensor' library and 'The Annotated Transformer' post.\n",
    "\n",
    "</div>"
   ]
  },
  {
   "cell_type": "markdown",
   "metadata": {},
   "source": [
    "## Encoder Decoder\n",
    "\n",
    "A encoder-decoder [structure](https://arxiv.org/abs/1409.0473) is used: an input sequence of symbols, $x = { x_1, x_2, \\dots, x_n }$, is encoded into a sequence of continuous variables,  $\\mathbf{z} = { z_1, z_2, \\dots, z_n }$. This is then decoded into a sequence of symbols, $y = { y_1, y_2, \\dots, y_n }$. This generation occurs one at a time - it is [auto-regressive](https://arxiv.org/abs/1308.0850), further consuming the previously generated symbols as additional input when generating the next. Encoder and decoder models usually use a recurrent architecture."
   ]
  },
  {
   "cell_type": "markdown",
   "metadata": {},
   "source": [
    "## Input Representation\n",
    "\n",
    "This work used a Byte Pair Encoding scheme. This is a subword tokenization of your vocabulary. This is much more valuable than a UNK symbol. To build this representation, an iterative algorithm can be used to link together the most common segments, starting with character pairs."
   ]
  },
  {
   "cell_type": "markdown",
   "metadata": {},
   "source": [
    "## Scaled Dot-Product Attention\n",
    "The transformer network uses a stateless auto-regressive strategy which will decode the encoded (but not summarized) source words and the current output words. The primary featured used is scaled dot product attention.\n",
    "\n",
    "The authors describe attention as follows:\n",
    "\n",
    "> An attention function can be described as mapping a query and a set of key-value pairs to an output, where the query, keys, values, and output are all vectors.  The output is computed as a weighted sum of the values, where the weight assigned to each value is computed by a compatibility function of the query with the corresponding key.\n",
    "\n",
    "In addition to attention, they use a few techniques to regularize their network: layer normalization, residual connections, and dropout."
   ]
  },
  {
   "cell_type": "markdown",
   "metadata": {},
   "source": [
    "As noted by the authors, attention maps a query to a combination of given outputs, as determined by the query's corresponding compatibility with the input keys. As the autological \"Scaled Dot-Product Attention\" method implies, the authors use dot product for their compatibility function. One could use any metric, learned or otherwise. Cosine distance or a layer of MLP can be used."
   ]
  },
  {
   "cell_type": "code",
   "execution_count": 3,
   "metadata": {},
   "outputs": [
    {
     "data": {
      "image/svg+xml": [
       "<svg viewBox=\"0 0 601 483.107\" xmlns=\"http://www.w3.org/2000/svg\"><defs><style>.a,.q{fill:#fd9910;}.b,.d{fill:#020000;}.b{font-size:20px;}.b,.e,.s{font-family:Menlo-Regular, Menlo;}.c{fill:rgba(255,47,47,0.5);}.d,.e,.s{font-size:15px;}.d{font-family:Menlo-Italic, Menlo;font-style:italic;}.f,.g{fill:#fff;}.f,.j{stroke:#707070;}.g{stroke:#fff;}.h,.m,.p,.s,.y{fill:#95abf4;}.i,.w{fill:#707070;}.j,.l,.n,.v{fill:none;}.k,.x{fill:#fc9810;}.l{stroke:#fc9810;}.n{stroke:#95abf4;}.o{fill:#ff9696;}.o,.p,.q{font-family:Menlo-Bold, Menlo;font-weight:700;}.r{fill:#2ac141;}.t{fill:#000;}.u,.w,.x,.y{stroke:none;}</style></defs><g transform=\"translate(-40 -47.893)\"><rect class=\"a\" height=\"40\" transform=\"translate(44 50)\" width=\"40\"/><text class=\"b\" transform=\"translate(64 77)\"><tspan x=\"-6.021\" y=\"0\">Q</tspan></text><rect class=\"c\" height=\"40\" transform=\"translate(43 118)\" width=\"40\"/><text class=\"b\" transform=\"translate(63 145)\"><tspan x=\"-6.021\" y=\"0\">K</tspan></text><text class=\"d\" transform=\"translate(64 105)\"><tspan x=\"-22.577\" y=\"0\">q . d</tspan></text><text class=\"d\" transform=\"translate(63 173)\"><tspan x=\"-22.577\" y=\"0\">n . d</tspan></text><text class=\"e\" transform=\"translate(384 150)\"><tspan x=\"0\" y=\"0\">k2</tspan></text><text class=\"e\" transform=\"translate(554 150)\"><tspan x=\"0\" y=\"0\">q1</tspan></text><text class=\"e\" transform=\"translate(104 75)\"><tspan x=\"0\" y=\"0\">=</tspan></text><text class=\"e\" transform=\"translate(103 143)\"><tspan x=\"0\" y=\"0\">=</tspan></text><g class=\"f\" transform=\"translate(130 50)\"><rect class=\"u\" height=\"40\" width=\"49\"/><rect class=\"v\" height=\"39\" width=\"48\" x=\"0.5\" y=\"0.5\"/></g><g class=\"g\" transform=\"translate(136 50)\"><rect class=\"u\" height=\"40\" width=\"36\"/><rect class=\"v\" height=\"39\" width=\"35\" x=\"0.5\" y=\"0.5\"/></g><text class=\"e\" transform=\"translate(145 66)\"><tspan x=\"0\" y=\"0\">q1</tspan></text><text class=\"e\" transform=\"translate(145 86)\"><tspan x=\"0\" y=\"0\">q2</tspan></text><rect class=\"h\" height=\"40\" transform=\"translate(42 189)\" width=\"40\"/><text class=\"b\" transform=\"translate(62 216)\"><tspan x=\"-6.021\" y=\"0\">V</tspan></text><text class=\"d\" transform=\"translate(63 244)\"><tspan x=\"-22.577\" y=\"0\">n . v</tspan></text><text class=\"e\" transform=\"translate(103 211)\"><tspan x=\"0\" y=\"0\">=</tspan></text><g class=\"f\" transform=\"translate(129 178)\"><rect class=\"u\" height=\"55\" width=\"49\"/><rect class=\"v\" height=\"54\" width=\"48\" x=\"0.5\" y=\"0.5\"/></g><g class=\"g\" transform=\"translate(135 178)\"><rect class=\"u\" height=\"55\" width=\"36\"/><rect class=\"v\" height=\"54\" width=\"35\" x=\"0.5\" y=\"0.5\"/></g><text class=\"e\" transform=\"translate(144 191)\"><tspan x=\"0\" y=\"0\">v1</tspan></text><text class=\"e\" transform=\"translate(144 211)\"><tspan x=\"0\" y=\"0\">v2</tspan></text><text class=\"e\" transform=\"translate(144 229)\"><tspan x=\"0\" y=\"0\">v3</tspan></text><g class=\"f\" transform=\"translate(129 111)\"><rect class=\"u\" height=\"55\" width=\"49\"/><rect class=\"v\" height=\"54\" width=\"48\" x=\"0.5\" y=\"0.5\"/></g><g class=\"g\" transform=\"translate(135 111)\"><rect class=\"u\" height=\"55\" width=\"36\"/><rect class=\"v\" height=\"54\" width=\"35\" x=\"0.5\" y=\"0.5\"/></g><text class=\"e\" transform=\"translate(144 124)\"><tspan x=\"0\" y=\"0\">k1</tspan></text><text class=\"e\" transform=\"translate(144 144)\"><tspan x=\"0\" y=\"0\">k2</tspan></text><text class=\"e\" transform=\"translate(144 162)\"><tspan x=\"0\" y=\"0\">k3</tspan></text><g transform=\"translate(155 287)\"><g class=\"i\" transform=\"translate(317.5 -239.107) rotate(45)\"><path class=\"u\" d=\"M 4.48930025100708 10.31504917144775 L 0.8653011322021484 0.8604671359062195 L 10.36387062072754 4.440470218658447 L 7.402174472808838 7.402174949645996 L 4.48930025100708 10.31504917144775 Z\"/><path class=\"w\" d=\"M 1.730582237243652 1.720914840698242 L 4.680450439453125 9.416769027709961 L 7.048614501953125 7.048604965209961 L 9.462241172790527 4.6349778175354 L 1.730582237243652 1.720914840698242 M 4.76837158203125e-06 -4.76837158203125e-06 L 11.26548385620117 4.245954990386963 L 7.755724430084229 7.755715370178223 L 4.298134326934814 11.21330547332764 L 4.76837158203125e-06 -4.76837158203125e-06 Z\"/></g><g transform=\"translate(239.449 -238.479)\"><line class=\"j\" transform=\"translate(78.051)\" y2=\"161.409\"/></g></g><g transform=\"translate(395.43 -107.607) rotate(90)\"><g class=\"i\" transform=\"translate(317.5 -239.107) rotate(45)\"><path class=\"u\" d=\"M 4.48930025100708 10.31504917144775 L 0.8653011322021484 0.8604671359062195 L 10.36387062072754 4.440470218658447 L 7.402174472808838 7.402174949645996 L 4.48930025100708 10.31504917144775 Z\"/><path class=\"w\" d=\"M 1.730582237243652 1.720914840698242 L 4.680450439453125 9.416769027709961 L 7.048614501953125 7.048604965209961 L 9.462241172790527 4.6349778175354 L 1.730582237243652 1.720914840698242 M 4.76837158203125e-06 -4.76837158203125e-06 L 11.26548385620117 4.245954990386963 L 7.755724430084229 7.755715370178223 L 4.298134326934814 11.21330547332764 L 4.76837158203125e-06 -4.76837158203125e-06 Z\"/></g><g transform=\"translate(239.449 -238.479)\"><line class=\"j\" transform=\"translate(78.051)\" y2=\"161.409\"/></g></g><g transform=\"matrix(-0.643, -0.766, 0.766, -0.643, 767.718, 376.527)\"><g class=\"i\" transform=\"translate(317.5 -239.107) rotate(45)\"><path class=\"u\" d=\"M 4.48930025100708 10.31504917144775 L 0.8653011322021484 0.8604671359062195 L 10.36387062072754 4.440470218658447 L 7.402174472808838 7.402174949645996 L 4.48930025100708 10.31504917144775 Z\"/><path class=\"w\" d=\"M 1.730582237243652 1.720914840698242 L 4.680450439453125 9.416769027709961 L 7.048614501953125 7.048604965209961 L 9.462241172790527 4.6349778175354 L 1.730582237243652 1.720914840698242 M 4.76837158203125e-06 -4.76837158203125e-06 L 11.26548385620117 4.245954990386963 L 7.755724430084229 7.755715370178223 L 4.298134326934814 11.21330547332764 L 4.76837158203125e-06 -4.76837158203125e-06 Z\"/></g><g transform=\"translate(239.449 -238.479)\"><line class=\"j\" transform=\"translate(78.051)\" y2=\"120.427\"/></g></g><g transform=\"matrix(0.454, 0.891, -0.891, 0.454, 259.51, -38.229)\"><g class=\"k\" transform=\"translate(317.5 -239.107) rotate(45)\"><path class=\"u\" d=\"M 4.48930025100708 10.31504917144775 L 0.8653011322021484 0.8604671359062195 L 10.36387062072754 4.440470218658447 L 7.402174472808838 7.402174949645996 L 4.48930025100708 10.31504917144775 Z\"/><path class=\"x\" d=\"M 1.730582237243652 1.720914840698242 L 4.680450439453125 9.416769027709961 L 7.048614501953125 7.048604965209961 L 9.462241172790527 4.6349778175354 L 1.730582237243652 1.720914840698242 M 4.76837158203125e-06 -4.76837158203125e-06 L 11.26548385620117 4.245954990386963 L 7.755724430084229 7.755715370178223 L 4.298134326934814 11.21330547332764 L 4.76837158203125e-06 -4.76837158203125e-06 Z\"/></g><g transform=\"translate(239.449 -238.479)\"><line class=\"l\" transform=\"translate(78.051)\" y2=\"161.409\"/></g></g><g transform=\"matrix(0.454, 0.891, -0.891, 0.454, 259.51, -38.229)\"><g class=\"k\" transform=\"translate(317.5 -239.107) rotate(45)\"><path class=\"u\" d=\"M 4.48930025100708 10.31504917144775 L 0.8653011322021484 0.8604671359062195 L 10.36387062072754 4.440470218658447 L 7.402174472808838 7.402174949645996 L 4.48930025100708 10.31504917144775 Z\"/><path class=\"x\" d=\"M 1.730582237243652 1.720914840698242 L 4.680450439453125 9.416769027709961 L 7.048614501953125 7.048604965209961 L 9.462241172790527 4.6349778175354 L 1.730582237243652 1.720914840698242 M 4.76837158203125e-06 -4.76837158203125e-06 L 11.26548385620117 4.245954990386963 L 7.755724430084229 7.755715370178223 L 4.298134326934814 11.21330547332764 L 4.76837158203125e-06 -4.76837158203125e-06 Z\"/></g><g transform=\"translate(239.449 -238.479)\"><line class=\"l\" transform=\"translate(78.051)\" y2=\"161.409\"/></g></g><g transform=\"matrix(-0.94, -0.342, 0.342, -0.94, 797.958, 242.955)\"><g class=\"k\" transform=\"translate(317.5 -239.107) rotate(45)\"><path class=\"u\" d=\"M 4.48930025100708 10.31504917144775 L 0.8653011322021484 0.8604671359062195 L 10.36387062072754 4.440470218658447 L 7.402174472808838 7.402174949645996 L 4.48930025100708 10.31504917144775 Z\"/><path class=\"x\" d=\"M 1.730582237243652 1.720914840698242 L 4.680450439453125 9.416769027709961 L 7.048614501953125 7.048604965209961 L 9.462241172790527 4.6349778175354 L 1.730582237243652 1.720914840698242 M 4.76837158203125e-06 -4.76837158203125e-06 L 11.26548385620117 4.245954990386963 L 7.755724430084229 7.755715370178223 L 4.298134326934814 11.21330547332764 L 4.76837158203125e-06 -4.76837158203125e-06 Z\"/></g><g transform=\"translate(239.449 -238.479)\"><line class=\"l\" transform=\"translate(78.051)\" y2=\"161.409\"/></g></g><g transform=\"translate(678.984 463.87) rotate(-115)\"><g class=\"k\" transform=\"translate(317.5 -239.107) rotate(45)\"><path class=\"u\" d=\"M 4.48930025100708 10.31504917144775 L 0.8653011322021484 0.8604671359062195 L 10.36387062072754 4.440470218658447 L 7.402174472808838 7.402174949645996 L 4.48930025100708 10.31504917144775 Z\"/><path class=\"x\" d=\"M 1.730582237243652 1.720914840698242 L 4.680450439453125 9.416769027709961 L 7.048614501953125 7.048604965209961 L 9.462241172790527 4.6349778175354 L 1.730582237243652 1.720914840698242 M 4.76837158203125e-06 -4.76837158203125e-06 L 11.26548385620117 4.245954990386963 L 7.755724430084229 7.755715370178223 L 4.298134326934814 11.21330547332764 L 4.76837158203125e-06 -4.76837158203125e-06 Z\"/></g><g transform=\"translate(239.449 -238.479)\"><line class=\"l\" transform=\"translate(78.051)\" y2=\"161.409\"/></g></g><g transform=\"translate(273.892 -55.479) rotate(70)\"><g class=\"m\" transform=\"translate(317.5 -239.107) rotate(45)\"><path class=\"u\" d=\"M 4.48930025100708 10.31504917144775 L 0.8653011322021484 0.8604671359062195 L 10.36387062072754 4.440470218658447 L 7.402174472808838 7.402174949645996 L 4.48930025100708 10.31504917144775 Z\"/><path class=\"y\" d=\"M 1.730582237243652 1.720914840698242 L 4.680450439453125 9.416769027709961 L 7.048614501953125 7.048604965209961 L 9.462241172790527 4.6349778175354 L 1.730582237243652 1.720914840698242 M 4.76837158203125e-06 -4.76837158203125e-06 L 11.26548385620117 4.245954990386963 L 7.755724430084229 7.755715370178223 L 4.298134326934814 11.21330547332764 L 4.76837158203125e-06 -4.76837158203125e-06 Z\"/></g><g transform=\"translate(238.975 -238.479)\"><line class=\"n\" transform=\"translate(78.525)\" y2=\"141.937\"/></g></g><g transform=\"translate(292.836 489.149) rotate(-40)\"><g class=\"m\" transform=\"translate(317.5 -239.107) rotate(45)\"><path class=\"u\" d=\"M 4.48930025100708 10.31504917144775 L 0.8653011322021484 0.8604671359062195 L 10.36387062072754 4.440470218658447 L 7.402174472808838 7.402174949645996 L 4.48930025100708 10.31504917144775 Z\"/><path class=\"y\" d=\"M 1.730582237243652 1.720914840698242 L 4.680450439453125 9.416769027709961 L 7.048614501953125 7.048604965209961 L 9.462241172790527 4.6349778175354 L 1.730582237243652 1.720914840698242 M 4.76837158203125e-06 -4.76837158203125e-06 L 11.26548385620117 4.245954990386963 L 7.755724430084229 7.755715370178223 L 4.298134326934814 11.21330547332764 L 4.76837158203125e-06 -4.76837158203125e-06 Z\"/></g><g transform=\"translate(238.975 -238.479)\"><line class=\"n\" transform=\"translate(78.525)\" y2=\"141.937\"/></g></g><text class=\"e\" transform=\"translate(580 187)\"><tspan x=\"0\" y=\"0\">k1</tspan></text><text class=\"e\" transform=\"translate(343 253)\"><tspan x=\"0\" y=\"0\">q2</tspan></text><text class=\"e\" transform=\"translate(437 335)\"><tspan x=\"0\" y=\"0\">q3</tspan></text><text class=\"e\" transform=\"translate(40 401)\"><tspan x=\"0\" y=\"0\">1. Each key </tspan><tspan class=\"o\" y=\"0\">K</tspan><tspan y=\"0\">_i maps to a value </tspan><tspan class=\"p\" y=\"0\">V</tspan><tspan y=\"0\">_i.</tspan><tspan x=\"0\" y=\"18\">2. Each query </tspan><tspan class=\"q\" y=\"18\">Q</tspan><tspan y=\"18\">_j will operate on all the keys</tspan><tspan x=\"0\" xml:space=\"preserve\" y=\"36\">   with a compatibility function (dot product).</tspan><tspan x=\"0\" y=\"54\">3. These scores will be transformed into a </tspan><tspan x=\"0\" xml:space=\"preserve\" y=\"72\">   probability distribution by a </tspan><tspan class=\"r\" y=\"72\">softmax</tspan><tspan y=\"72\">.</tspan><tspan x=\"0\" y=\"90\">3. Then, each query will be mapped to a linear </tspan><tspan x=\"0\" xml:space=\"preserve\" y=\"108\">   combination of the values as determined by</tspan><tspan x=\"0\" xml:space=\"preserve\" y=\"126\">   the probability distribution, e.g:</tspan></text><g class=\"f\" transform=\"translate(487 411)\"><rect class=\"u\" height=\"76\" width=\"154\"/><rect class=\"v\" height=\"75\" width=\"153\" x=\"0.5\" y=\"0.5\"/></g><g class=\"g\" transform=\"translate(495 411)\"><rect class=\"u\" height=\"76\" width=\"139\"/><rect class=\"v\" height=\"75\" width=\"138\" x=\"0.5\" y=\"0.5\"/></g><text class=\"s\" transform=\"translate(495 436)\"><tspan class=\"r\" x=\"0\" y=\"0\">0.8</tspan><tspan class=\"t\" y=\"0\"> </tspan><tspan class=\"h\" y=\"0\">v1</tspan><tspan class=\"t\" xml:space=\"preserve\" y=\"0\"> + </tspan><tspan class=\"r\" y=\"0\">0.1</tspan><tspan class=\"t\" y=\"0\"> </tspan><tspan class=\"h\" y=\"0\">v2</tspan><tspan class=\"r\" x=\"0\" y=\"18\">0.3</tspan><tspan class=\"t\" y=\"18\"> </tspan><tspan class=\"h\" y=\"18\">v1</tspan><tspan class=\"t\" xml:space=\"preserve\" y=\"18\"> + </tspan><tspan class=\"r\" y=\"18\">0.7</tspan><tspan class=\"t\" y=\"18\"> </tspan><tspan class=\"h\" y=\"18\">v2</tspan><tspan class=\"r\" x=\"0\" y=\"36\">0.4</tspan><tspan class=\"t\" y=\"36\"> </tspan><tspan class=\"h\" y=\"36\">v2</tspan><tspan class=\"t\" xml:space=\"preserve\" y=\"36\"> + </tspan><tspan class=\"r\" y=\"36\">0.6</tspan><tspan class=\"t\" y=\"36\"> </tspan><tspan class=\"h\" y=\"36\">v2</tspan></text></g></svg>"
      ],
      "text/plain": [
       "<IPython.core.display.SVG object>"
      ]
     },
     "execution_count": 3,
     "metadata": {},
     "output_type": "execute_result"
    }
   ],
   "source": [
    "SVG(filename=\"images/[003]/attention-example.svg\")"
   ]
  },
  {
   "cell_type": "markdown",
   "metadata": {},
   "source": [
    "As shown in the intuitive example above, the query $q_1$ is most similar to $k_1$, thus it is mapped predimately to the corresponding value $v_1$. Note: these values are examples, not necessarily accurate."
   ]
  },
  {
   "cell_type": "markdown",
   "metadata": {},
   "source": [
    "The scaled dot product attention is straight forward.\n",
    "\n",
    "\\begin{equation}\n",
    "A: Q \\times K \\times V \\to O \\\\\n",
    "Q\\in \\mathbf{R}^{q \\times d}, K \\in \\mathbf{R}^{n \\times d}, V \\in \\mathbf{R}^{n \\times v}, O \\in \\mathbf{R}^{q \\times v} \\\\\n",
    "A = \\text{SOFTMAX}(\\frac{QK^{\\intercal}}{\\sqrt{d}}) V\n",
    "\\end{equation}\n",
    "\n"
   ]
  },
  {
   "cell_type": "markdown",
   "metadata": {},
   "source": [
    "The innovative aspect of scaled dot product - beyond the authors' apt framing of the problem as an interaction between queries, keys, and values - is the scaling. The author motivate this scaling by noting that the variance of a dot product scales with the size of the input vectors. Increased variance will result in increased magnitude, \"pushing the softmax function into regions where it has extremely small gradients.\"\n",
    "\n",
    "<div class=\"alert alert-info\">\n",
    "\n",
    "Why is the gradient small?\n",
    "\n",
    "</div>"
   ]
  },
  {
   "cell_type": "code",
   "execution_count": 4,
   "metadata": {},
   "outputs": [
    {
     "data": {
      "image/svg+xml": [
       "<svg viewBox=\"0 0 265 519\" xmlns=\"http://www.w3.org/2000/svg\"><defs><style>.a{fill:rgba(251,157,255,0.5);}.b,.j{fill:#020000;}.b{font-size:20px;font-family:Menlo-Regular, Menlo;}.c{fill:rgba(157,255,168,0.5);}.d{fill:rgba(255,157,157,0.5);}.e{font-size:14px;}.f{fill:rgba(255,240,157,0.5);}.g{fill:rgba(157,180,255,0.5);}.h,.l{fill:#707070;}.i{fill:none;stroke:#707070;}.j{font-size:15px;font-family:Menlo-Italic, Menlo;font-style:italic;}.k,.l{stroke:none;}</style></defs><g transform=\"translate(377 734)\"><g transform=\"translate(-284 -350)\"><rect class=\"a\" height=\"52\" transform=\"translate(50 -384)\" width=\"122\"/><text class=\"b\" transform=\"translate(111 -350)\"><tspan x=\"-36.123\" y=\"0\">MatMul</tspan></text></g><g transform=\"translate(-371 18)\"><rect class=\"a\" height=\"52\" transform=\"translate(50 -384)\" width=\"122\"/><text class=\"b\" transform=\"translate(111 -350)\"><tspan x=\"-36.123\" y=\"0\">MatMul</tspan></text></g><g transform=\"translate(-371 -74)\"><rect class=\"c\" height=\"52\" transform=\"translate(50 -384)\" width=\"122\"/><text class=\"b\" transform=\"translate(111 -350)\"><tspan x=\"-30.103\" y=\"0\">Scale</tspan></text><text class=\"b\" transform=\"translate(111 -350)\"><tspan x=\"-30.103\" y=\"0\">Scale</tspan></text></g><g transform=\"translate(-371 -166)\"><rect class=\"d\" height=\"52\" transform=\"translate(50 -384)\" width=\"122\"/><text class=\"b\" transform=\"translate(111 -350)\"><tspan x=\"-53.583\" y=\"0\">Mask</tspan><tspan class=\"e\" xml:space=\"preserve\" y=\"0\"> (opt.)</tspan></text></g><g transform=\"translate(-371 -258)\"><rect class=\"f\" height=\"52\" transform=\"translate(50 -384)\" width=\"122\"/><text class=\"b\" transform=\"translate(111 -350)\"><tspan x=\"-42.144\" y=\"0\">SoftMax</tspan></text></g><rect class=\"g\" height=\"40\" transform=\"translate(-321 -274)\" width=\"40\"/><text class=\"b\" transform=\"translate(-301 -247)\"><tspan x=\"-6.021\" y=\"0\">Q</tspan></text><rect class=\"g\" height=\"40\" transform=\"translate(-239 -274)\" width=\"40\"/><text class=\"b\" transform=\"translate(-219 -247)\"><tspan x=\"-6.021\" y=\"0\">K</tspan></text><rect class=\"g\" height=\"40\" transform=\"translate(-158 -274)\" width=\"40\"/><text class=\"b\" transform=\"translate(-138 -247)\"><tspan x=\"-6.021\" y=\"0\">V</tspan></text><g transform=\"translate(-619 -75)\"><g class=\"h\" transform=\"translate(317.5 -239.107) rotate(45)\"><path class=\"k\" d=\"M 4.48930025100708 10.31504917144775 L 0.8653011322021484 0.8604671359062195 L 10.36387062072754 4.440470218658447 L 7.402174472808838 7.402174949645996 L 4.48930025100708 10.31504917144775 Z\"/><path class=\"l\" d=\"M 1.730582237243652 1.720914840698242 L 4.680450439453125 9.416769027709961 L 7.048614501953125 7.048604965209961 L 9.462241172790527 4.6349778175354 L 1.730582237243652 1.720914840698242 M 4.76837158203125e-06 -4.76837158203125e-06 L 11.26548385620117 4.245954990386963 L 7.755724430084229 7.755715370178223 L 4.298134326934814 11.21330547332764 L 4.76837158203125e-06 -4.76837158203125e-06 Z\"/></g><g transform=\"translate(317.5 -238.479)\"><line class=\"i\" y2=\"39.479\"/></g></g><g transform=\"translate(-537 -75)\"><g class=\"h\" transform=\"translate(317.5 -239.107) rotate(45)\"><path class=\"k\" d=\"M 4.48930025100708 10.31504917144775 L 0.8653011322021484 0.8604671359062195 L 10.36387062072754 4.440470218658447 L 7.402174472808838 7.402174949645996 L 4.48930025100708 10.31504917144775 Z\"/><path class=\"l\" d=\"M 1.730582237243652 1.720914840698242 L 4.680450439453125 9.416769027709961 L 7.048614501953125 7.048604965209961 L 9.462241172790527 4.6349778175354 L 1.730582237243652 1.720914840698242 M 4.76837158203125e-06 -4.76837158203125e-06 L 11.26548385620117 4.245954990386963 L 7.755724430084229 7.755715370178223 L 4.298134326934814 11.21330547332764 L 4.76837158203125e-06 -4.76837158203125e-06 Z\"/></g><g transform=\"translate(317.5 -238.479)\"><line class=\"i\" y2=\"39.479\"/></g></g><g transform=\"translate(-578 -167)\"><g class=\"h\" transform=\"translate(317.5 -239.107) rotate(45)\"><path class=\"k\" d=\"M 4.48930025100708 10.31504917144775 L 0.8653011322021484 0.8604671359062195 L 10.36387062072754 4.440470218658447 L 7.402174472808838 7.402174949645996 L 4.48930025100708 10.31504917144775 Z\"/><path class=\"l\" d=\"M 1.730582237243652 1.720914840698242 L 4.680450439453125 9.416769027709961 L 7.048614501953125 7.048604965209961 L 9.462241172790527 4.6349778175354 L 1.730582237243652 1.720914840698242 M 4.76837158203125e-06 -4.76837158203125e-06 L 11.26548385620117 4.245954990386963 L 7.755724430084229 7.755715370178223 L 4.298134326934814 11.21330547332764 L 4.76837158203125e-06 -4.76837158203125e-06 Z\"/></g><g transform=\"translate(317.5 -238.479)\"><line class=\"i\" y2=\"39.479\"/></g></g><g transform=\"translate(-578 -259)\"><g class=\"h\" transform=\"translate(317.5 -239.107) rotate(45)\"><path class=\"k\" d=\"M 4.48930025100708 10.31504917144775 L 0.8653011322021484 0.8604671359062195 L 10.36387062072754 4.440470218658447 L 7.402174472808838 7.402174949645996 L 4.48930025100708 10.31504917144775 Z\"/><path class=\"l\" d=\"M 1.730582237243652 1.720914840698242 L 4.680450439453125 9.416769027709961 L 7.048614501953125 7.048604965209961 L 9.462241172790527 4.6349778175354 L 1.730582237243652 1.720914840698242 M 4.76837158203125e-06 -4.76837158203125e-06 L 11.26548385620117 4.245954990386963 L 7.755724430084229 7.755715370178223 L 4.298134326934814 11.21330547332764 L 4.76837158203125e-06 -4.76837158203125e-06 Z\"/></g><g transform=\"translate(317.5 -238.479)\"><line class=\"i\" y2=\"39.479\"/></g></g><g transform=\"translate(-578 -351)\"><g class=\"h\" transform=\"translate(317.5 -239.107) rotate(45)\"><path class=\"k\" d=\"M 4.48930025100708 10.31504917144775 L 0.8653011322021484 0.8604671359062195 L 10.36387062072754 4.440470218658447 L 7.402174472808838 7.402174949645996 L 4.48930025100708 10.31504917144775 Z\"/><path class=\"l\" d=\"M 1.730582237243652 1.720914840698242 L 4.680450439453125 9.416769027709961 L 7.048614501953125 7.048604965209961 L 9.462241172790527 4.6349778175354 L 1.730582237243652 1.720914840698242 M 4.76837158203125e-06 -4.76837158203125e-06 L 11.26548385620117 4.245954990386963 L 7.755724430084229 7.755715370178223 L 4.298134326934814 11.21330547332764 L 4.76837158203125e-06 -4.76837158203125e-06 Z\"/></g><g transform=\"translate(317.5 -238.479)\"><line class=\"i\" y2=\"39.479\"/></g></g><g transform=\"translate(-524 -443)\"><g class=\"h\" transform=\"translate(317.5 -239.107) rotate(45)\"><path class=\"k\" d=\"M 4.48930025100708 10.31504917144775 L 0.8653011322021484 0.8604671359062195 L 10.36387062072754 4.440470218658447 L 7.402174472808838 7.402174949645996 L 4.48930025100708 10.31504917144775 Z\"/><path class=\"l\" d=\"M 1.730582237243652 1.720914840698242 L 4.680450439453125 9.416769027709961 L 7.048614501953125 7.048604965209961 L 9.462241172790527 4.6349778175354 L 1.730582237243652 1.720914840698242 M 4.76837158203125e-06 -4.76837158203125e-06 L 11.26548385620117 4.245954990386963 L 7.755724430084229 7.755715370178223 L 4.298134326934814 11.21330547332764 L 4.76837158203125e-06 -4.76837158203125e-06 Z\"/></g><g transform=\"translate(317.5 -238.479)\"><line class=\"i\" y2=\"39.479\"/></g></g><g transform=\"translate(-619 -75)\"><g class=\"h\" transform=\"translate(317.5 -239.107) rotate(45)\"><path class=\"k\" d=\"M 4.48930025100708 10.31504917144775 L 0.8653011322021484 0.8604671359062195 L 10.36387062072754 4.440470218658447 L 7.402174472808838 7.402174949645996 L 4.48930025100708 10.31504917144775 Z\"/><path class=\"l\" d=\"M 1.730582237243652 1.720914840698242 L 4.680450439453125 9.416769027709961 L 7.048614501953125 7.048604965209961 L 9.462241172790527 4.6349778175354 L 1.730582237243652 1.720914840698242 M 4.76837158203125e-06 -4.76837158203125e-06 L 11.26548385620117 4.245954990386963 L 7.755724430084229 7.755715370178223 L 4.298134326934814 11.21330547332764 L 4.76837158203125e-06 -4.76837158203125e-06 Z\"/></g><g transform=\"translate(317.5 -238.479)\"><line class=\"i\" y2=\"39.479\"/></g></g><g transform=\"translate(-456 -443)\"><g class=\"h\" transform=\"translate(317.5 -239.107) rotate(45)\"><path class=\"k\" d=\"M 4.535821437835693 10.36429500579834 L 0.8697293400764465 0.8648907542228699 L 10.4131498336792 4.486966609954834 L 7.450057506561279 7.450058460235596 L 4.535821437835693 10.36429500579834 Z\"/><path class=\"l\" d=\"M 1.739458084106445 1.729791641235352 L 4.725615501403809 9.467380523681641 L 7.096497535705566 7.096498489379883 L 9.512900352478027 4.68009614944458 L 1.739458084106445 1.729791641235352 M -1.9073486328125e-06 -1.9073486328125e-06 L 11.31337738037109 4.293838500976562 L 7.803607940673828 7.803608894348145 L 4.346017837524414 11.26119899749756 L -1.9073486328125e-06 -1.9073486328125e-06 Z\"/></g><g transform=\"translate(317.5 -238.475)\"><line class=\"i\" y2=\"407.475\"/></g></g><text class=\"j\" transform=\"translate(-301 -219)\"><tspan x=\"-22.577\" y=\"0\">q . d</tspan></text><text class=\"j\" transform=\"translate(-219 -219)\"><tspan x=\"-22.577\" y=\"0\">n . d</tspan></text><text class=\"j\" transform=\"translate(-137 -219)\"><tspan x=\"-22.577\" y=\"0\">n . v</tspan></text><text class=\"j\" transform=\"translate(-354 -335)\"><tspan x=\"-22.577\" y=\"0\">q . n</tspan></text><text class=\"j\" transform=\"translate(-354 -427)\"><tspan x=\"-22.577\" y=\"0\">q . n</tspan></text><text class=\"j\" transform=\"translate(-354 -519)\"><tspan x=\"-22.577\" y=\"0\">q . n</tspan></text><text class=\"j\" transform=\"translate(-352 -611)\"><tspan x=\"-22.577\" y=\"0\">q . n</tspan></text><text class=\"j\" transform=\"translate(-265 -703)\"><tspan x=\"-22.577\" y=\"0\">q . v</tspan></text></g></svg>"
      ],
      "text/plain": [
       "<IPython.core.display.SVG object>"
      ]
     },
     "execution_count": 4,
     "metadata": {},
     "output_type": "execute_result"
    }
   ],
   "source": [
    "SVG(filename=\"images/[003]/scaled-dot-product.svg\")"
   ]
  },
  {
   "cell_type": "markdown",
   "metadata": {},
   "source": [
    "Below is an implementation for the scaled dot product. Each line corresponds to a box in the figure above."
   ]
  },
  {
   "cell_type": "code",
   "execution_count": 5,
   "metadata": {},
   "outputs": [],
   "source": [
    "def attention(query, key, value, mask=None):\n",
    "    \"Compute 'Scaled Dot Product Attention'\"\n",
    "    # Compatiblity function (dot product) between the query and keys.\n",
    "    scores = torch.matmul(query, key.transpose(-2, -1))\n",
    "    # Scale the scores depending on the size of the inputs.\n",
    "    scores = scores / math.sqrt(query.size(-1))\n",
    "    # Optional mask. This is used to zero out values that should not be used by this function.\n",
    "    if mask is not None:    \n",
    "        scores = scores.masked_fill(mask == 0, -1e9)\n",
    "    # Compute probability distribution across the final dimension.\n",
    "    p_attn = F.softmax(scores, dim = -1)\n",
    "    # Output linear combinations of values, as determined by the distribution.\n",
    "    return torch.matmul(p_attn, value), p_attn"
   ]
  },
  {
   "cell_type": "markdown",
   "metadata": {},
   "source": [
    "### Self Attention\n",
    "With a single query, self attention will have no effect. This is because the attention mechanism will be a linear combination of the values, and it can only reproduce itself so it serves as an identity function."
   ]
  },
  {
   "cell_type": "code",
   "execution_count": 6,
   "metadata": {},
   "outputs": [],
   "source": [
    "def SelfAttention(X):\n",
    "    Q, K, V = X, X, X\n",
    "    return attention(Q, K, V)"
   ]
  },
  {
   "cell_type": "code",
   "execution_count": 7,
   "metadata": {},
   "outputs": [
    {
     "name": "stdout",
     "output_type": "stream",
     "text": [
      "tensor([[0.1000, 0.1000, 0.8000]])\n",
      "tensor([[1.]])\n"
     ]
    }
   ],
   "source": [
    "out, alpha = SelfAttention(torch.FloatTensor([[0.1,0.1,0.8]]))\n",
    "print(out)\n",
    "print(alpha)"
   ]
  },
  {
   "cell_type": "markdown",
   "metadata": {},
   "source": [
    "When there are multiple queries, the vectors that are most *compatible* will become even more similar as they will be mapped to combinations consisting mostly of the already compatible vectors. \n",
    "\n",
    "The remaining vector will also be normalized *different*."
   ]
  },
  {
   "cell_type": "code",
   "execution_count": 8,
   "metadata": {},
   "outputs": [
    {
     "name": "stdout",
     "output_type": "stream",
     "text": [
      "tensor([[0.2992, 0.5329, 0.1679],\n",
      "        [0.2228, 0.7070, 0.0702],\n",
      "        [0.2645, 0.2645, 0.4711]])\n"
     ]
    }
   ],
   "source": [
    "X = torch.FloatTensor([\n",
    "    [0,0,1],\n",
    "    [0,0,2],\n",
    "    [1,0,0]\n",
    "])\n",
    "out, alpha = SelfAttention(X)\n",
    "print(alpha)"
   ]
  },
  {
   "cell_type": "markdown",
   "metadata": {},
   "source": [
    "Note that, especially with values greater than 1, a vector can have a greater dot product with other vectors rather than itself. So, similarity is aptly not the correct word to describe this interaction (at least when using a dot product). Thus, the first vector is mapped to a construction consisting mostly of itself and the second vector follows the same trend but more extreme. Lastly, the third vector, less compatible than the others - becomes pseduo-normalized."
   ]
  },
  {
   "cell_type": "code",
   "execution_count": 9,
   "metadata": {},
   "outputs": [
    {
     "name": "stdout",
     "output_type": "stream",
     "text": [
      "tensor([[0.1679, 0.0000, 1.3650],\n",
      "        [0.0702, 0.0000, 1.6368],\n",
      "        [0.4711, 0.0000, 0.7934]])\n"
     ]
    }
   ],
   "source": [
    "print(out)"
   ]
  },
  {
   "cell_type": "markdown",
   "metadata": {},
   "source": [
    "## Multi Head Attention\n"
   ]
  },
  {
   "cell_type": "markdown",
   "metadata": {},
   "source": [
    "The primary representative power of the transformer is \"Multi-Head Attention\". It is built up using the scaled dot product attention.\n",
    "\n",
    "Rather than attend raw queries a single time, this method attends *h* linear projections of the input. For each of the *h* heads, the inputs (K,Q,V) are projected linearily with a learned mapping. This is great! Rather than using a single dot product, the multi-headed attention can learn to project vectors and attend them differently. \n",
    "\n",
    "<div class=\"alert alert-info\">\n",
    "Ultimately, the compatiblity function and the projections are all linear - perhaps it would be worth the time to see if non-linear mappings would drastically effect the performance of this method. Does using a feed forward layer here help? hurt?\n",
    "</div>\n"
   ]
  },
  {
   "cell_type": "markdown",
   "metadata": {},
   "source": [
    "\\begin{equation}\n",
    "\\text{out} = \\texttt{Concat}(\\text{head}_0, \\dots, \\text{head}_h) W^O \\\\\n",
    "\\text{head}_i = \\texttt{Attention}(QW_i^Q, KW_i^K, VW_i^V) \\\\\n",
    "Q \\in \\mathbf{R}^{q \\times m}, K \\in \\mathbf{R}^{n \\times m}, V \\in \\mathbf{R}^{n \\times m} \\\\\n",
    "W_j^Q, W_j^K, W_j^V \\in \\mathbf{R}^{m \\times d} \\\\\n",
    "W^O \\in \\mathbf{R}^{(h*v)\\times m}\n",
    "\\end{equation}"
   ]
  },
  {
   "cell_type": "code",
   "execution_count": 10,
   "metadata": {},
   "outputs": [],
   "source": [
    "class MultiHeadedAttention(nn.Module):\n",
    "    def __init__(self, h, d_model, dropout=0.1):\n",
    "        \"Take in model size and number of heads.\"\n",
    "        super(MultiHeadedAttention, self).__init__()\n",
    "        assert d_model % h == 0\n",
    "        # We assume d_v always equals d_k\n",
    "        self.d_k = d_model // h\n",
    "        self.h = h\n",
    "        self.linears = clones(nn.Linear(d_model, d_model), 4)\n",
    "        self.attn = None\n",
    "        self.dropout = nn.Dropout(p=dropout)\n",
    "        \n",
    "    def forward(self, query, key, value, mask=None):\n",
    "        \"Implements Figure 2\"\n",
    "        if mask is not None:\n",
    "            # Same mask applied to all h heads.\n",
    "            mask = mask.unsqueeze(1)\n",
    "        nbatches = query.size(0)\n",
    "        \n",
    "        # 1) Do all the linear projections in batch from d_model => h x d_k \n",
    "        query, key, value = \\\n",
    "            [l(x).view(nbatches, -1, self.h, self.d_k).transpose(1, 2)\n",
    "             for l, x in zip(self.linears, (query, key, value))]\n",
    "        \n",
    "        # 2) Apply attention on all the projected vectors in batch. \n",
    "        x, self.attn = attention(query, key, value, mask=mask, \n",
    "                                 dropout=self.dropout)\n",
    "        \n",
    "        # 3) \"Concat\" using a view and apply a final linear. \n",
    "        x = x.transpose(1, 2).contiguous() \\\n",
    "             .view(nbatches, -1, self.h * self.d_k)\n",
    "        return self.linears[-1](x)"
   ]
  },
  {
   "cell_type": "markdown",
   "metadata": {},
   "source": [
    "Thus, the multi-headed attention is a function from $R^{q*d}$ to $R^{q*v}$. Furthermore, like the scaled-dot-product attention, it is able to concurrently operate on all the queries in parallel regardless of the size of the sentence."
   ]
  },
  {
   "cell_type": "code",
   "execution_count": 11,
   "metadata": {},
   "outputs": [
    {
     "data": {
      "image/svg+xml": [
       "<svg viewBox=\"0 0 720 320\" xmlns=\"http://www.w3.org/2000/svg\">\n",
       "  <defs>\n",
       "    <style>\n",
       "      .cls-1, .cls-12 {\n",
       "        fill: #fd9910;\n",
       "      }\n",
       "\n",
       "      .cls-1, .cls-2, .cls-4, .cls-5, .cls-6, .cls-7, .cls-8, .cls-9 {\n",
       "        opacity: 0.237;\n",
       "      }\n",
       "\n",
       "      .cls-13, .cls-15, .cls-16, .cls-17, .cls-2, .cls-24, .cls-5 {\n",
       "        fill: #020000;\n",
       "      }\n",
       "\n",
       "      .cls-13, .cls-15, .cls-2, .cls-22, .cls-5 {\n",
       "        font-size: 20px;\n",
       "      }\n",
       "\n",
       "      .cls-13, .cls-2, .cls-22, .cls-24 {\n",
       "        font-family: Hack-Regular, Hack;\n",
       "      }\n",
       "\n",
       "      .cls-3 {\n",
       "        font-size: 10px;\n",
       "      }\n",
       "\n",
       "      .cls-4 {\n",
       "        fill: rgba(255,47,47,0.5);\n",
       "      }\n",
       "\n",
       "      .cls-15, .cls-5 {\n",
       "        font-family: Menlo-Regular, Menlo;\n",
       "      }\n",
       "\n",
       "      .cls-18, .cls-6 {\n",
       "        fill: #95abf4;\n",
       "      }\n",
       "\n",
       "      .cls-21, .cls-7 {\n",
       "        fill: #e83ead;\n",
       "      }\n",
       "\n",
       "      .cls-11, .cls-29, .cls-8 {\n",
       "        fill: none;\n",
       "      }\n",
       "\n",
       "      .cls-11, .cls-25, .cls-8 {\n",
       "        stroke: #707070;\n",
       "      }\n",
       "\n",
       "      .cls-10, .cls-22, .cls-28 {\n",
       "        fill: #707070;\n",
       "      }\n",
       "\n",
       "      .cls-14 {\n",
       "        fill: #ff2f2f;\n",
       "      }\n",
       "\n",
       "      .cls-16, .cls-17, .cls-24 {\n",
       "        font-size: 15px;\n",
       "      }\n",
       "\n",
       "      .cls-16 {\n",
       "        font-family: Hack-Italic, Hack;\n",
       "      }\n",
       "\n",
       "      .cls-16, .cls-17 {\n",
       "        font-style: italic;\n",
       "      }\n",
       "\n",
       "      .cls-17 {\n",
       "        font-family: Menlo-Italic, Menlo;\n",
       "      }\n",
       "\n",
       "      .cls-19 {\n",
       "        fill: #10ebfd;\n",
       "      }\n",
       "\n",
       "      .cls-20 {\n",
       "        fill: rgba(255,47,47,0.98);\n",
       "      }\n",
       "\n",
       "      .cls-23 {\n",
       "        fill: #10fdbd;\n",
       "      }\n",
       "\n",
       "      .cls-24 {\n",
       "        opacity: 0.511;\n",
       "      }\n",
       "\n",
       "      .cls-25, .cls-26 {\n",
       "        fill: #fff;\n",
       "      }\n",
       "\n",
       "      .cls-26 {\n",
       "        stroke: #fff;\n",
       "      }\n",
       "\n",
       "      .cls-27, .cls-28 {\n",
       "        stroke: none;\n",
       "      }\n",
       "    </style>\n",
       "  </defs>\n",
       "  <g data-name=\"Group 47\" id=\"Group_47\" transform=\"translate(-36 -44)\">\n",
       "    <rect class=\"cls-1\" data-name=\"Rectangle 21\" height=\"40\" id=\"Rectangle_21\" transform=\"translate(265 110)\" width=\"40\"/>\n",
       "    <text class=\"cls-2\" id=\"Wq1\" transform=\"translate(285 137)\"><tspan x=\"-12.041\" y=\"0\">W</tspan><tspan class=\"cls-3\" y=\"0\">q1</tspan></text>\n",
       "    <rect class=\"cls-4\" data-name=\"Rectangle 22\" height=\"40\" id=\"Rectangle_22\" transform=\"translate(265 178)\" width=\"40\"/>\n",
       "    <text class=\"cls-5\" id=\"Wk1\" transform=\"translate(285 206)\"><tspan x=\"-12.041\" y=\"0\">W</tspan><tspan class=\"cls-3\" y=\"0\">k1</tspan></text>\n",
       "    <rect class=\"cls-6\" data-name=\"Rectangle 23\" height=\"40\" id=\"Rectangle_23\" transform=\"translate(265 249)\" width=\"40\"/>\n",
       "    <text class=\"cls-2\" id=\"Wv1\" transform=\"translate(285 276)\"><tspan x=\"-12.041\" y=\"0\">W</tspan><tspan class=\"cls-3\" y=\"0\">v1</tspan></text>\n",
       "    <rect class=\"cls-1\" data-name=\"Rectangle 24\" height=\"40\" id=\"Rectangle_24\" transform=\"translate(335 110)\" width=\"40\"/>\n",
       "    <text class=\"cls-2\" id=\"Q1\" transform=\"translate(355 137)\"><tspan x=\"-9.031\" y=\"0\">Q</tspan><tspan class=\"cls-3\" y=\"0\">1</tspan></text>\n",
       "    <rect class=\"cls-4\" data-name=\"Rectangle 25\" height=\"40\" id=\"Rectangle_25\" transform=\"translate(335 178)\" width=\"40\"/>\n",
       "    <text class=\"cls-5\" id=\"K1\" transform=\"translate(355 205)\"><tspan x=\"-9.031\" y=\"0\">K</tspan><tspan class=\"cls-3\" y=\"0\">1</tspan></text>\n",
       "    <rect class=\"cls-6\" data-name=\"Rectangle 26\" height=\"40\" id=\"Rectangle_26\" transform=\"translate(335 249)\" width=\"40\"/>\n",
       "    <text class=\"cls-2\" id=\"V1\" transform=\"translate(355 275)\"><tspan x=\"-9.031\" y=\"0\">V</tspan><tspan class=\"cls-3\" y=\"0\">1</tspan></text>\n",
       "    <path class=\"cls-7\" d=\"M0,0H53V40H0Z\" data-name=\"Path 5\" id=\"Path_5\" transform=\"translate(417 178)\"/>\n",
       "    <text class=\"cls-2\" id=\"SDA\" transform=\"translate(443 205)\"><tspan x=\"-18.062\" y=\"0\">SDA</tspan></text>\n",
       "    <line class=\"cls-8\" data-name=\"Line 27\" id=\"Line_27\" transform=\"translate(379.5 127.5)\" x2=\"15\"/>\n",
       "    <line class=\"cls-8\" data-name=\"Line 28\" id=\"Line_28\" transform=\"translate(394.5 127.5)\" y2=\"143\"/>\n",
       "    <g class=\"cls-9\" data-name=\"Group 42\" id=\"Group_42\" transform=\"translate(170.893 -117.607) rotate(90)\">\n",
       "      <g class=\"cls-10\" data-name=\"Path 3\" id=\"Path_3\" transform=\"translate(317.167 -239.107) rotate(45)\">\n",
       "        <path class=\"cls-27\" d=\"M 4.79009485244751 10.35495471954346 L 0.9132568836212158 0.9083845615386963 L 10.40186786651611 4.743190288543701 L 7.572525501251221 7.572524547576904 L 4.79009485244751 10.35495471954346 Z\"/>\n",
       "        <path class=\"cls-28\" d=\"M 1.826522827148438 1.816766738891602 L 4.967541694641113 9.470388412475586 L 7.218965530395508 7.218964099884033 L 9.514205932617188 4.923730373382568 L 1.826522827148438 1.816766738891602 M -4.76837158203125e-06 4.76837158203125e-06 L 11.28951549530029 4.562644481658936 L 7.926075458526611 7.926074028015137 L 4.612645149230957 11.23950386047363 L -4.76837158203125e-06 4.76837158203125e-06 Z\"/>\n",
       "      </g>\n",
       "      <g data-name=\"Group 9\" id=\"Group_9\" transform=\"translate(317.185 -238.466)\">\n",
       "        <line class=\"cls-11\" data-name=\"Line 7\" id=\"Line_7\" y2=\"15\"/>\n",
       "      </g>\n",
       "    </g>\n",
       "    <line class=\"cls-8\" data-name=\"Line 29\" id=\"Line_29\" transform=\"translate(379.5 199.5)\" x2=\"15\"/>\n",
       "    <line class=\"cls-8\" data-name=\"Line 30\" id=\"Line_30\" transform=\"translate(379.5 270.5)\" x2=\"15\"/>\n",
       "    <line class=\"cls-8\" data-name=\"Line 31\" id=\"Line_31\" transform=\"translate(475.5 200.5)\" x2=\"15\"/>\n",
       "    <line class=\"cls-8\" data-name=\"Line 32\" id=\"Line_32\" transform=\"translate(490.5 157.5)\" y2=\"43\"/>\n",
       "    <g class=\"cls-9\" data-name=\"Group 43\" id=\"Group_43\" transform=\"translate(94.125 -187.607) rotate(90)\">\n",
       "      <g class=\"cls-10\" data-name=\"Path 3\" id=\"Path_3-2\" transform=\"translate(317.167 -239.107) rotate(45)\">\n",
       "        <path class=\"cls-27\" d=\"M 4.624250411987305 10.18009090423584 L 0.89665687084198 0.8917896747589111 L 10.22691440582275 4.577427387237549 L 7.402166843414307 7.40216588973999 L 4.624250411987305 10.18009090423584 Z\"/>\n",
       "        <path class=\"cls-28\" d=\"M 1.793312072753906 1.783587455749512 L 4.806203842163086 9.291015625 L 7.048606872558594 7.048605918884277 L 9.334651947021484 4.762567520141602 L 1.793312072753906 1.783587455749512 M -2.86102294921875e-06 -3.814697265625e-06 L 11.11915683746338 4.392285823822021 L 7.755717277526855 7.755715847015381 L 4.442286968231201 11.0691556930542 L -2.86102294921875e-06 -3.814697265625e-06 Z\"/>\n",
       "      </g>\n",
       "      <g data-name=\"Group 9\" id=\"Group_9-2\" transform=\"translate(317.185 -238.479)\">\n",
       "        <line class=\"cls-11\" data-name=\"Line 7\" id=\"Line_7-2\" transform=\"translate(0)\" y2=\"26\"/>\n",
       "      </g>\n",
       "    </g>\n",
       "    <g class=\"cls-9\" data-name=\"Group 44\" id=\"Group_44\" transform=\"translate(94.125 -117.607) rotate(90)\">\n",
       "      <g class=\"cls-10\" data-name=\"Path 3\" id=\"Path_3-3\" transform=\"translate(317.167 -239.107) rotate(45)\">\n",
       "        <path class=\"cls-27\" d=\"M 4.624250411987305 10.18009090423584 L 0.89665687084198 0.8917896747589111 L 10.22691440582275 4.577427387237549 L 7.402166843414307 7.40216588973999 L 4.624250411987305 10.18009090423584 Z\"/>\n",
       "        <path class=\"cls-28\" d=\"M 1.793312072753906 1.783587455749512 L 4.806203842163086 9.291015625 L 7.048606872558594 7.048605918884277 L 9.334651947021484 4.762567520141602 L 1.793312072753906 1.783587455749512 M -2.86102294921875e-06 -3.814697265625e-06 L 11.11915683746338 4.392285823822021 L 7.755717277526855 7.755715847015381 L 4.442286968231201 11.0691556930542 L -2.86102294921875e-06 -3.814697265625e-06 Z\"/>\n",
       "      </g>\n",
       "      <g data-name=\"Group 9\" id=\"Group_9-3\" transform=\"translate(317.185 -238.479)\">\n",
       "        <line class=\"cls-11\" data-name=\"Line 7\" id=\"Line_7-3\" transform=\"translate(0)\" y2=\"26\"/>\n",
       "      </g>\n",
       "    </g>\n",
       "    <g class=\"cls-9\" data-name=\"Group 45\" id=\"Group_45\" transform=\"translate(94.125 -46.607) rotate(90)\">\n",
       "      <g class=\"cls-10\" data-name=\"Path 3\" id=\"Path_3-4\" transform=\"translate(317.167 -239.107) rotate(45)\">\n",
       "        <path class=\"cls-27\" d=\"M 4.624250411987305 10.18009090423584 L 0.89665687084198 0.8917896747589111 L 10.22691440582275 4.577427387237549 L 7.402166843414307 7.40216588973999 L 4.624250411987305 10.18009090423584 Z\"/>\n",
       "        <path class=\"cls-28\" d=\"M 1.793312072753906 1.783587455749512 L 4.806203842163086 9.291015625 L 7.048606872558594 7.048605918884277 L 9.334651947021484 4.762567520141602 L 1.793312072753906 1.783587455749512 M -2.86102294921875e-06 -3.814697265625e-06 L 11.11915683746338 4.392285823822021 L 7.755717277526855 7.755715847015381 L 4.442286968231201 11.0691556930542 L -2.86102294921875e-06 -3.814697265625e-06 Z\"/>\n",
       "      </g>\n",
       "      <g data-name=\"Group 9\" id=\"Group_9-4\" transform=\"translate(317.185 -238.479)\">\n",
       "        <line class=\"cls-11\" data-name=\"Line 7\" id=\"Line_7-4\" transform=\"translate(0)\" y2=\"26\"/>\n",
       "      </g>\n",
       "    </g>\n",
       "    <g class=\"cls-9\" data-name=\"Group 46\" id=\"Group_46\" transform=\"translate(863.103 -55.215) rotate(180)\">\n",
       "      <g class=\"cls-10\" data-name=\"Path 3\" id=\"Path_3-5\" transform=\"translate(317.167 -239.107) rotate(45)\">\n",
       "        <path class=\"cls-27\" d=\"M 4.624250411987305 10.18009090423584 L 0.89665687084198 0.8917896747589111 L 10.22691440582275 4.577427387237549 L 7.402166843414307 7.40216588973999 L 4.624250411987305 10.18009090423584 Z\"/>\n",
       "        <path class=\"cls-28\" d=\"M 1.793312072753906 1.783587455749512 L 4.806203842163086 9.291015625 L 7.048606872558594 7.048605918884277 L 9.334651947021484 4.762567520141602 L 1.793312072753906 1.783587455749512 M -2.86102294921875e-06 -3.814697265625e-06 L 11.11915683746338 4.392285823822021 L 7.755717277526855 7.755715847015381 L 4.442286968231201 11.0691556930542 L -2.86102294921875e-06 -3.814697265625e-06 Z\"/>\n",
       "      </g>\n",
       "      <g data-name=\"Group 9\" id=\"Group_9-5\" transform=\"translate(317.185 -238.479)\">\n",
       "        <line class=\"cls-11\" data-name=\"Line 7\" id=\"Line_7-5\" transform=\"translate(0)\" y2=\"26\"/>\n",
       "      </g>\n",
       "    </g>\n",
       "    <rect class=\"cls-12\" data-name=\"Rectangle 1\" height=\"40\" id=\"Rectangle_1\" transform=\"translate(165 136)\" width=\"40\"/>\n",
       "    <text class=\"cls-13\" id=\"Q\" transform=\"translate(184 163)\"><tspan x=\"-6.021\" y=\"0\">Q</tspan></text>\n",
       "    <rect class=\"cls-14\" data-name=\"Rectangle 2\" height=\"40\" id=\"Rectangle_2\" transform=\"translate(165 204)\" width=\"40\"/>\n",
       "    <text class=\"cls-15\" id=\"K\" transform=\"translate(184 231)\"><tspan x=\"-6.021\" y=\"0\">K</tspan></text>\n",
       "    <text class=\"cls-16\" id=\"q.d\" transform=\"translate(185 191)\"><tspan x=\"-13.546\" y=\"0\">q.d</tspan></text>\n",
       "    <text class=\"cls-17\" id=\"n.d\" transform=\"translate(184 259)\"><tspan x=\"-13.546\" y=\"0\">n.d</tspan></text>\n",
       "    <rect class=\"cls-18\" data-name=\"Rectangle 5\" height=\"40\" id=\"Rectangle_5\" transform=\"translate(165 275)\" width=\"40\"/>\n",
       "    <text class=\"cls-13\" id=\"V\" transform=\"translate(184 302)\"><tspan x=\"-6.021\" y=\"0\">V</tspan></text>\n",
       "    <text class=\"cls-17\" id=\"n.v\" transform=\"translate(184 330)\"><tspan x=\"-13.546\" y=\"0\">n.v</tspan></text>\n",
       "    <rect class=\"cls-19\" data-name=\"Rectangle 11\" height=\"40\" id=\"Rectangle_11\" transform=\"translate(40 204)\" width=\"40\"/>\n",
       "    <text class=\"cls-13\" id=\"U\" transform=\"translate(60 231)\"><tspan x=\"-6.021\" y=\"0\">U</tspan></text>\n",
       "    <text class=\"cls-16\" data-name=\"n.d\" id=\"n.d-2\" transform=\"translate(60 259)\"><tspan x=\"-13.546\" y=\"0\">n.d</tspan></text>\n",
       "    <text class=\"cls-17\" data-name=\"n = q, d = v\" id=\"n_q_d_v\" transform=\"translate(91 360)\"><tspan x=\"-54.185\" y=\"0\">n = q, d = v</tspan></text>\n",
       "    <rect class=\"cls-12\" data-name=\"Rectangle 12\" height=\"40\" id=\"Rectangle_12\" transform=\"translate(233 136)\" width=\"40\"/>\n",
       "    <text class=\"cls-13\" id=\"Wqh\" transform=\"translate(253 163)\"><tspan x=\"-12.041\" y=\"0\">W</tspan><tspan class=\"cls-3\" y=\"0\">qh</tspan></text>\n",
       "    <rect class=\"cls-20\" data-name=\"Rectangle 13\" height=\"40\" id=\"Rectangle_13\" transform=\"translate(233 204)\" width=\"40\"/>\n",
       "    <text class=\"cls-15\" id=\"Wkh\" transform=\"translate(253 232)\"><tspan x=\"-12.041\" y=\"0\">W</tspan><tspan class=\"cls-3\" y=\"0\">kh</tspan></text>\n",
       "    <rect class=\"cls-18\" data-name=\"Rectangle 14\" height=\"40\" id=\"Rectangle_14\" transform=\"translate(233 275)\" width=\"40\"/>\n",
       "    <text class=\"cls-13\" id=\"Wvh\" transform=\"translate(253 302)\"><tspan x=\"-12.041\" y=\"0\">W</tspan><tspan class=\"cls-3\" y=\"0\">vh</tspan></text>\n",
       "    <rect class=\"cls-12\" data-name=\"Rectangle 15\" height=\"40\" id=\"Rectangle_15\" transform=\"translate(303 136)\" width=\"40\"/>\n",
       "    <text class=\"cls-13\" id=\"Qh\" transform=\"translate(323 163)\"><tspan x=\"-9.031\" y=\"0\">Q</tspan><tspan class=\"cls-3\" y=\"0\">h</tspan></text>\n",
       "    <rect class=\"cls-14\" data-name=\"Rectangle 16\" height=\"40\" id=\"Rectangle_16\" transform=\"translate(303 204)\" width=\"40\"/>\n",
       "    <text class=\"cls-15\" id=\"Kh\" transform=\"translate(323 231)\"><tspan x=\"-9.031\" y=\"0\">K</tspan><tspan class=\"cls-3\" y=\"0\">h</tspan></text>\n",
       "    <rect class=\"cls-18\" data-name=\"Rectangle 17\" height=\"40\" id=\"Rectangle_17\" transform=\"translate(303 275)\" width=\"40\"/>\n",
       "    <text class=\"cls-13\" id=\"Vh\" transform=\"translate(323 301)\"><tspan x=\"-9.031\" y=\"0\">V</tspan><tspan class=\"cls-3\" y=\"0\">h</tspan></text>\n",
       "    <text class=\"cls-13\" id=\"x\" transform=\"translate(218 163)\"><tspan x=\"-6.021\" y=\"0\">x</tspan></text>\n",
       "    <text class=\"cls-13\" data-name=\"x\" id=\"x-2\" transform=\"translate(218 232)\"><tspan x=\"-6.021\" y=\"0\">x</tspan></text>\n",
       "    <text class=\"cls-13\" data-name=\"x\" id=\"x-3\" transform=\"translate(218 301)\"><tspan x=\"-6.021\" y=\"0\">x</tspan></text>\n",
       "    <path class=\"cls-21\" d=\"M0,0H53V40H0Z\" data-name=\"Path 4\" id=\"Path_4\" transform=\"translate(385 204)\"/>\n",
       "    <text class=\"cls-13\" data-name=\"SDA\" id=\"SDA-2\" transform=\"translate(411 231)\"><tspan x=\"-18.062\" y=\"0\">SDA</tspan></text>\n",
       "    <text class=\"cls-22\" data-name=\"Self-Attention w/ Multi-Headed Attention\" id=\"Self-Attention_w_Multi-Headed_Attention\" transform=\"translate(207 63)\"><tspan x=\"0\" y=\"0\">Self-Attention w/ Multi-Headed Attention</tspan></text>\n",
       "    <line class=\"cls-11\" data-name=\"Line 14\" id=\"Line_14\" transform=\"translate(86.5 225.5)\" x2=\"42\"/>\n",
       "    <g data-name=\"Group 28\" id=\"Group_28\" transform=\"translate(-79.875 -162.607) rotate(90)\">\n",
       "      <g class=\"cls-10\" data-name=\"Path 3\" id=\"Path_3-6\" transform=\"translate(317.167 -239.107) rotate(45)\">\n",
       "        <path class=\"cls-27\" d=\"M 4.624250411987305 10.18009090423584 L 0.89665687084198 0.8917896747589111 L 10.22691440582275 4.577427387237549 L 7.402166843414307 7.40216588973999 L 4.624250411987305 10.18009090423584 Z\"/>\n",
       "        <path class=\"cls-28\" d=\"M 1.793312072753906 1.783587455749512 L 4.806203842163086 9.291015625 L 7.048606872558594 7.048605918884277 L 9.334651947021484 4.762567520141602 L 1.793312072753906 1.783587455749512 M -2.86102294921875e-06 -3.814697265625e-06 L 11.11915683746338 4.392285823822021 L 7.755717277526855 7.755715847015381 L 4.442286968231201 11.0691556930542 L -2.86102294921875e-06 -3.814697265625e-06 Z\"/>\n",
       "      </g>\n",
       "      <g data-name=\"Group 9\" id=\"Group_9-6\" transform=\"translate(317.185 -238.479)\">\n",
       "        <line class=\"cls-11\" data-name=\"Line 7\" id=\"Line_7-6\" y2=\"30\"/>\n",
       "      </g>\n",
       "    </g>\n",
       "    <line class=\"cls-11\" data-name=\"Line 15\" id=\"Line_15\" transform=\"translate(128.5 154.5)\" y2=\"142\"/>\n",
       "    <g data-name=\"Group 29\" id=\"Group_29\" transform=\"translate(-79.875 -20.607) rotate(90)\">\n",
       "      <g class=\"cls-10\" data-name=\"Path 3\" id=\"Path_3-7\" transform=\"translate(317.167 -239.107) rotate(45)\">\n",
       "        <path class=\"cls-27\" d=\"M 4.624250411987305 10.18009090423584 L 0.89665687084198 0.8917896747589111 L 10.22691440582275 4.577427387237549 L 7.402166843414307 7.40216588973999 L 4.624250411987305 10.18009090423584 Z\"/>\n",
       "        <path class=\"cls-28\" d=\"M 1.793312072753906 1.783587455749512 L 4.806203842163086 9.291015625 L 7.048606872558594 7.048605918884277 L 9.334651947021484 4.762567520141602 L 1.793312072753906 1.783587455749512 M -2.86102294921875e-06 -3.814697265625e-06 L 11.11915683746338 4.392285823822021 L 7.755717277526855 7.755715847015381 L 4.442286968231201 11.0691556930542 L -2.86102294921875e-06 -3.814697265625e-06 Z\"/>\n",
       "      </g>\n",
       "      <g data-name=\"Group 9\" id=\"Group_9-7\" transform=\"translate(317.185 -238.479)\">\n",
       "        <line class=\"cls-11\" data-name=\"Line 7\" id=\"Line_7-7\" transform=\"translate(0)\" y2=\"30\"/>\n",
       "      </g>\n",
       "    </g>\n",
       "    <g data-name=\"Group 30\" id=\"Group_30\" transform=\"translate(-79.875 -91.607) rotate(90)\">\n",
       "      <g class=\"cls-10\" data-name=\"Path 3\" id=\"Path_3-8\" transform=\"translate(317.167 -239.107) rotate(45)\">\n",
       "        <path class=\"cls-27\" d=\"M 4.624250411987305 10.18009090423584 L 0.89665687084198 0.8917896747589111 L 10.22691440582275 4.577427387237549 L 7.402166843414307 7.40216588973999 L 4.624250411987305 10.18009090423584 Z\"/>\n",
       "        <path class=\"cls-28\" d=\"M 1.793312072753906 1.783587455749512 L 4.806203842163086 9.291015625 L 7.048606872558594 7.048605918884277 L 9.334651947021484 4.762567520141602 L 1.793312072753906 1.783587455749512 M -2.86102294921875e-06 -3.814697265625e-06 L 11.11915683746338 4.392285823822021 L 7.755717277526855 7.755715847015381 L 4.442286968231201 11.0691556930542 L -2.86102294921875e-06 -3.814697265625e-06 Z\"/>\n",
       "      </g>\n",
       "      <g data-name=\"Group 9\" id=\"Group_9-8\" transform=\"translate(317.185 -238.479)\">\n",
       "        <line class=\"cls-11\" data-name=\"Line 7\" id=\"Line_7-8\" y2=\"30\"/>\n",
       "      </g>\n",
       "    </g>\n",
       "    <line class=\"cls-11\" data-name=\"Line 19\" id=\"Line_19\" transform=\"translate(347.5 153.5)\" x2=\"15\"/>\n",
       "    <line class=\"cls-11\" data-name=\"Line 20\" id=\"Line_20\" transform=\"translate(362.5 153.5)\" y2=\"143\"/>\n",
       "    <g data-name=\"Group 31\" id=\"Group_31\" transform=\"translate(138.893 -91.607) rotate(90)\">\n",
       "      <g class=\"cls-10\" data-name=\"Path 3\" id=\"Path_3-9\" transform=\"translate(317.167 -239.107) rotate(45)\">\n",
       "        <path class=\"cls-27\" d=\"M 4.79009485244751 10.35495471954346 L 0.9132568836212158 0.9083845615386963 L 10.40186786651611 4.743190288543701 L 7.572525501251221 7.572524547576904 L 4.79009485244751 10.35495471954346 Z\"/>\n",
       "        <path class=\"cls-28\" d=\"M 1.826522827148438 1.816766738891602 L 4.967541694641113 9.470388412475586 L 7.218965530395508 7.218964099884033 L 9.514205932617188 4.923730373382568 L 1.826522827148438 1.816766738891602 M -4.76837158203125e-06 4.76837158203125e-06 L 11.28951549530029 4.562644481658936 L 7.926075458526611 7.926074028015137 L 4.612645149230957 11.23950386047363 L -4.76837158203125e-06 4.76837158203125e-06 Z\"/>\n",
       "      </g>\n",
       "      <g data-name=\"Group 9\" id=\"Group_9-9\" transform=\"translate(317.185 -238.466)\">\n",
       "        <line class=\"cls-11\" data-name=\"Line 7\" id=\"Line_7-9\" y2=\"15\"/>\n",
       "      </g>\n",
       "    </g>\n",
       "    <line class=\"cls-11\" data-name=\"Line 21\" id=\"Line_21\" transform=\"translate(347.5 225.5)\" x2=\"15\"/>\n",
       "    <line class=\"cls-11\" data-name=\"Line 22\" id=\"Line_22\" transform=\"translate(347.5 296.5)\" x2=\"15\"/>\n",
       "    <g data-name=\"Group 32\" id=\"Group_32\" transform=\"translate(-79.875 -162.607) rotate(90)\">\n",
       "      <g class=\"cls-10\" data-name=\"Path 3\" id=\"Path_3-10\" transform=\"translate(317.167 -239.107) rotate(45)\">\n",
       "        <path class=\"cls-27\" d=\"M 4.624250411987305 10.18009090423584 L 0.89665687084198 0.8917896747589111 L 10.22691440582275 4.577427387237549 L 7.402166843414307 7.40216588973999 L 4.624250411987305 10.18009090423584 Z\"/>\n",
       "        <path class=\"cls-28\" d=\"M 1.793312072753906 1.783587455749512 L 4.806203842163086 9.291015625 L 7.048606872558594 7.048605918884277 L 9.334651947021484 4.762567520141602 L 1.793312072753906 1.783587455749512 M -2.86102294921875e-06 -3.814697265625e-06 L 11.11915683746338 4.392285823822021 L 7.755717277526855 7.755715847015381 L 4.442286968231201 11.0691556930542 L -2.86102294921875e-06 -3.814697265625e-06 Z\"/>\n",
       "      </g>\n",
       "    </g>\n",
       "    <line class=\"cls-11\" data-name=\"Line 25\" id=\"Line_25\" transform=\"translate(443.5 226.5)\" x2=\"47\"/>\n",
       "    <line class=\"cls-11\" data-name=\"Line 26\" id=\"Line_26\" transform=\"translate(490.5 226.5)\" y2=\"42\"/>\n",
       "    <g data-name=\"Group 37\" id=\"Group_37\" transform=\"translate(62.125 -161.607) rotate(90)\">\n",
       "      <g class=\"cls-10\" data-name=\"Path 3\" id=\"Path_3-11\" transform=\"translate(317.167 -239.107) rotate(45)\">\n",
       "        <path class=\"cls-27\" d=\"M 4.624250411987305 10.18009090423584 L 0.89665687084198 0.8917896747589111 L 10.22691440582275 4.577427387237549 L 7.402166843414307 7.40216588973999 L 4.624250411987305 10.18009090423584 Z\"/>\n",
       "        <path class=\"cls-28\" d=\"M 1.793312072753906 1.783587455749512 L 4.806203842163086 9.291015625 L 7.048606872558594 7.048605918884277 L 9.334651947021484 4.762567520141602 L 1.793312072753906 1.783587455749512 M -2.86102294921875e-06 -3.814697265625e-06 L 11.11915683746338 4.392285823822021 L 7.755717277526855 7.755715847015381 L 4.442286968231201 11.0691556930542 L -2.86102294921875e-06 -3.814697265625e-06 Z\"/>\n",
       "      </g>\n",
       "      <g data-name=\"Group 9\" id=\"Group_9-10\" transform=\"translate(317.185 -238.479)\">\n",
       "        <line class=\"cls-11\" data-name=\"Line 7\" id=\"Line_7-10\" transform=\"translate(0)\" y2=\"26\"/>\n",
       "      </g>\n",
       "    </g>\n",
       "    <g data-name=\"Group 38\" id=\"Group_38\" transform=\"translate(62.125 -91.607) rotate(90)\">\n",
       "      <g class=\"cls-10\" data-name=\"Path 3\" id=\"Path_3-12\" transform=\"translate(317.167 -239.107) rotate(45)\">\n",
       "        <path class=\"cls-27\" d=\"M 4.624250411987305 10.18009090423584 L 0.89665687084198 0.8917896747589111 L 10.22691440582275 4.577427387237549 L 7.402166843414307 7.40216588973999 L 4.624250411987305 10.18009090423584 Z\"/>\n",
       "        <path class=\"cls-28\" d=\"M 1.793312072753906 1.783587455749512 L 4.806203842163086 9.291015625 L 7.048606872558594 7.048605918884277 L 9.334651947021484 4.762567520141602 L 1.793312072753906 1.783587455749512 M -2.86102294921875e-06 -3.814697265625e-06 L 11.11915683746338 4.392285823822021 L 7.755717277526855 7.755715847015381 L 4.442286968231201 11.0691556930542 L -2.86102294921875e-06 -3.814697265625e-06 Z\"/>\n",
       "      </g>\n",
       "      <g data-name=\"Group 9\" id=\"Group_9-11\" transform=\"translate(317.185 -238.479)\">\n",
       "        <line class=\"cls-11\" data-name=\"Line 7\" id=\"Line_7-11\" transform=\"translate(0)\" y2=\"26\"/>\n",
       "      </g>\n",
       "    </g>\n",
       "    <g data-name=\"Group 39\" id=\"Group_39\" transform=\"translate(62.125 -20.607) rotate(90)\">\n",
       "      <g class=\"cls-10\" data-name=\"Path 3\" id=\"Path_3-13\" transform=\"translate(317.167 -239.107) rotate(45)\">\n",
       "        <path class=\"cls-27\" d=\"M 4.624250411987305 10.18009090423584 L 0.89665687084198 0.8917896747589111 L 10.22691440582275 4.577427387237549 L 7.402166843414307 7.40216588973999 L 4.624250411987305 10.18009090423584 Z\"/>\n",
       "        <path class=\"cls-28\" d=\"M 1.793312072753906 1.783587455749512 L 4.806203842163086 9.291015625 L 7.048606872558594 7.048605918884277 L 9.334651947021484 4.762567520141602 L 1.793312072753906 1.783587455749512 M -2.86102294921875e-06 -3.814697265625e-06 L 11.11915683746338 4.392285823822021 L 7.755717277526855 7.755715847015381 L 4.442286968231201 11.0691556930542 L -2.86102294921875e-06 -3.814697265625e-06 Z\"/>\n",
       "      </g>\n",
       "      <g data-name=\"Group 9\" id=\"Group_9-12\" transform=\"translate(317.185 -238.479)\">\n",
       "        <line class=\"cls-11\" data-name=\"Line 7\" id=\"Line_7-12\" transform=\"translate(0)\" y2=\"26\"/>\n",
       "      </g>\n",
       "    </g>\n",
       "    <g data-name=\"Group 41\" id=\"Group_41\" transform=\"translate(323.733 481.371)\">\n",
       "      <g class=\"cls-10\" data-name=\"Path 3\" id=\"Path_3-14\" transform=\"translate(317.167 -239.107) rotate(45)\">\n",
       "        <path class=\"cls-27\" d=\"M 4.624250411987305 10.18009090423584 L 0.89665687084198 0.8917896747589111 L 10.22691440582275 4.577427387237549 L 7.402166843414307 7.40216588973999 L 4.624250411987305 10.18009090423584 Z\"/>\n",
       "        <path class=\"cls-28\" d=\"M 1.793312072753906 1.783587455749512 L 4.806203842163086 9.291015625 L 7.048606872558594 7.048605918884277 L 9.334651947021484 4.762567520141602 L 1.793312072753906 1.783587455749512 M -2.86102294921875e-06 -3.814697265625e-06 L 11.11915683746338 4.392285823822021 L 7.755717277526855 7.755715847015381 L 4.442286968231201 11.0691556930542 L -2.86102294921875e-06 -3.814697265625e-06 Z\"/>\n",
       "      </g>\n",
       "      <g data-name=\"Group 9\" id=\"Group_9-13\" transform=\"translate(317.185 -238.479)\">\n",
       "        <line class=\"cls-11\" data-name=\"Line 7\" id=\"Line_7-13\" transform=\"translate(0)\" y2=\"26\"/>\n",
       "      </g>\n",
       "    </g>\n",
       "    <rect class=\"cls-23\" data-name=\"Rectangle 20\" height=\"40\" id=\"Rectangle_20\" transform=\"translate(708 194)\" width=\"40\"/>\n",
       "    <text class=\"cls-13\" id=\"Wo\" transform=\"translate(728 223)\"><tspan x=\"-9.031\" y=\"0\">W</tspan><tspan class=\"cls-3\" y=\"0\">o</tspan></text>\n",
       "    <text class=\"cls-13\" data-name=\"x\" id=\"x-4\" transform=\"translate(689 219)\"><tspan x=\"-6.021\" y=\"0\">x</tspan></text>\n",
       "    <text class=\"cls-17\" data-name=\"q.(h*w)\" id=\"q._h_w_\" transform=\"translate(594 298)\"><tspan x=\"-31.608\" y=\"0\">q.(h*w)</tspan></text>\n",
       "    <text class=\"cls-17\" data-name=\"(h*w).v\" id=\"_h_w_.v\" transform=\"translate(724 252)\"><tspan x=\"-31.608\" y=\"0\">(h*w).v</tspan></text>\n",
       "    <text class=\"cls-17\" id=\"v.w\" transform=\"translate(253 330)\"><tspan x=\"-13.546\" y=\"0\">v.w</tspan></text>\n",
       "    <text class=\"cls-17\" id=\"d.w\" transform=\"translate(253 259)\"><tspan x=\"-13.546\" y=\"0\">d.w</tspan></text>\n",
       "    <text class=\"cls-17\" data-name=\"d.w\" id=\"d.w-2\" transform=\"translate(252 191)\"><tspan x=\"-13.546\" y=\"0\">d.w</tspan></text>\n",
       "    <text class=\"cls-17\" id=\"n.w\" transform=\"translate(323 258)\"><tspan x=\"-13.546\" y=\"0\">n.w</tspan></text>\n",
       "    <text class=\"cls-17\" data-name=\"n.w\" id=\"n.w-2\" transform=\"translate(324 329)\"><tspan x=\"-13.546\" y=\"0\">n.w</tspan></text>\n",
       "    <text class=\"cls-17\" id=\"q.w\" transform=\"translate(324 189)\"><tspan x=\"-13.546\" y=\"0\">q.w</tspan></text>\n",
       "    <text class=\"cls-24\" data-name=\"...\" id=\"_...\" transform=\"matrix(0.469, -0.883, 0.883, 0.469, 475.181, 213.286)\"><tspan x=\"-13.546\" y=\"0\">...</tspan></text>\n",
       "    <g class=\"cls-25\" data-name=\"Rectangle 32\" id=\"Rectangle_32\" transform=\"translate(517 187.992)\">\n",
       "      <rect class=\"cls-27\" height=\"51.199\" width=\"154.712\"/>\n",
       "      <rect class=\"cls-29\" height=\"50.199\" width=\"153.712\" x=\"0.5\" y=\"0.5\"/>\n",
       "    </g>\n",
       "    <g class=\"cls-26\" data-name=\"Rectangle 33\" id=\"Rectangle_33\" transform=\"translate(523.601 185.629)\">\n",
       "      <rect class=\"cls-27\" height=\"55.451\" width=\"140.41\"/>\n",
       "      <rect class=\"cls-29\" height=\"54.451\" width=\"139.41\" x=\"0.5\" y=\"0.5\"/>\n",
       "    </g>\n",
       "    <rect class=\"cls-19\" data-name=\"Rectangle 34\" height=\"40\" id=\"Rectangle_34\" transform=\"translate(522 194)\" width=\"49\"/>\n",
       "    <text class=\"cls-13\" id=\"U1\" transform=\"translate(548 222)\"><tspan x=\"-9.031\" y=\"0\">U</tspan><tspan class=\"cls-3\" y=\"0\">1</tspan></text>\n",
       "    <rect class=\"cls-19\" data-name=\"Rectangle 35\" height=\"40\" id=\"Rectangle_35\" transform=\"translate(617 194)\" width=\"49\"/>\n",
       "    <text class=\"cls-13\" id=\"Uh\" transform=\"translate(642 221)\"><tspan x=\"-9.031\" y=\"0\">U</tspan><tspan class=\"cls-3\" y=\"0\">h</tspan></text>\n",
       "    <text class=\"cls-13\" data-name=\"...\" id=\"_...-2\" transform=\"translate(594 213)\"><tspan x=\"-18.062\" y=\"0\">...</tspan></text>\n",
       "    <line class=\"cls-8\" data-name=\"Line 33\" id=\"Line_33\" transform=\"translate(490.5 157.5)\" x2=\"55\"/>\n",
       "    <line class=\"cls-11\" data-name=\"Line 34\" id=\"Line_34\" transform=\"translate(490.5 268.5)\" x2=\"150\"/>\n",
       "    <text class=\"cls-17\" data-name=\"q.w\" id=\"q.w-2\" transform=\"translate(548 250)\"><tspan x=\"-13.546\" y=\"0\">q.w</tspan></text>\n",
       "  </g>\n",
       "</svg>"
      ],
      "text/plain": [
       "<IPython.core.display.SVG object>"
      ]
     },
     "execution_count": 11,
     "metadata": {},
     "output_type": "execute_result"
    }
   ],
   "source": [
    "SVG(filename=\"images/[003]/multi-head.svg\")"
   ]
  }
 ],
 "metadata": {
  "celltoolbar": "Raw Cell Format",
  "kernelspec": {
   "display_name": "Python 3",
   "language": "python",
   "name": "python3"
  },
  "language_info": {
   "codemirror_mode": {
    "name": "ipython",
    "version": 3
   },
   "file_extension": ".py",
   "mimetype": "text/x-python",
   "name": "python",
   "nbconvert_exporter": "python",
   "pygments_lexer": "ipython3",
   "version": "3.7.0"
  }
 },
 "nbformat": 4,
 "nbformat_minor": 2
}
